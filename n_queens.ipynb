{
  "cells": [
    {
      "cell_type": "markdown",
      "metadata": {
        "id": "view-in-github",
        "colab_type": "text"
      },
      "source": [
        "<a href=\"https://colab.research.google.com/github/TBang1911/TTNTNC/blob/main/n_queens.ipynb\" target=\"_parent\"><img src=\"https://colab.research.google.com/assets/colab-badge.svg\" alt=\"Open In Colab\"/></a>"
      ]
    },
    {
      "cell_type": "markdown",
      "metadata": {
        "id": "wDVGw4xP_XlL"
      },
      "source": [
        "# Solving the n-Queens Problem using Local Search\n",
        "\n",
        "Student Name: [Add your name]\n",
        "\n",
        "I have used the following AI tools: [list tools]\n",
        "\n",
        "I understand that my submission needs to be my own work: [your initials]\n"
      ]
    },
    {
      "cell_type": "markdown",
      "metadata": {
        "id": "RIWhrSts_XlO"
      },
      "source": [
        "## Learning Outcomes\n",
        "\n",
        "* Implement multiple hill climbing search variants to solve the n-Queens problem.\n",
        "* Apply simulated annealing with appropriate temperature scheduling to overcome local optima.\n",
        "* Compare algorithm performance using runtime, solution quality, and success rate metrics.\n",
        "* Analyze and visualize algorithm performance across different problem sizes.\n",
        "* Graduate Students: Design and test alternative local move operators to improve search efficiency."
      ]
    },
    {
      "cell_type": "markdown",
      "metadata": {
        "id": "ZeHg2rEJ_XlO"
      },
      "source": [
        "## Instructions\n",
        "\n",
        "Total Points: Undergrads 100 + 5 bonus / Graduate students 110\n",
        "\n",
        "Complete this notebook. Use the provided notebook cells and insert additional code and markdown cells as needed. Submit the completely rendered notebook as a HTML file."
      ]
    },
    {
      "cell_type": "markdown",
      "metadata": {
        "id": "STSpxua8_XlP"
      },
      "source": [
        "## The n-Queens Problem\n",
        "\n",
        "* __Goal:__ Find an arrangement of $n$ queens on a $n \\times n$ chess board so that no queen is on the same row, column or diagonal as any other queen.\n",
        "\n",
        "* __State space:__ An arrangement of the queens on the board. We restrict the state space to arrangements where there is only a single queen per column. We represent a state as an integer vector $\\mathbf{q} = \\{q_1, q_2, \\dots, q_n\\}$, each number representing the row positions of the queens from left to right. We will call a state a \"board.\"\n",
        "\n",
        "* __Objective function:__ The number of pairwise conflicts (i.e., two queens in the same row/column/diagonal).\n",
        "The optimization problem is to find the optimal arrangement $\\mathbf{q}^*$ of $n$ queens on the board can be written as:\n",
        "\n",
        "  > minimize: $\\mathrm{conflicts}(\\mathbf{q})$\n",
        "  >\n",
        "  > subject to: $\\mathbf{q} \\ \\text{contains only one queen per column}$\n",
        "\n",
        "  Note: the constraint (subject to) is enforced by the definition of the state space.\n",
        "\n",
        "* __Local improvement move:__ Move one queen to a different row in its column.\n",
        "\n",
        "* __Termination:__ For this problem there is always an arrangement $\\mathbf{q}^*$ with $\\mathrm{conflicts}(\\mathbf{q}^*) = 0$, however, the local improvement moves might end up in a local minimum."
      ]
    },
    {
      "cell_type": "markdown",
      "metadata": {
        "id": "fMopmX6V_XlP"
      },
      "source": [
        "## Helper functions"
      ]
    },
    {
      "cell_type": "code",
      "execution_count": null,
      "metadata": {
        "id": "W2QJXKgH_XlP"
      },
      "outputs": [],
      "source": [
        "import numpy as np\n",
        "import matplotlib.pyplot as plt\n",
        "from matplotlib import colors\n",
        "\n",
        "np.random.seed(1234)\n",
        "\n",
        "\n",
        "def random_board(n):\n",
        "    \"\"\"Creates a random board of size n x n. Note that only a single queen is placed in each column!\"\"\"\n",
        "\n",
        "    return(np.random.randint(0,n, size = n))\n",
        "\n",
        "def comb2(n): return n*(n-1)//2 # this is n choose 2 equivalent to math.comb(n, 2); // is int division\n",
        "\n",
        "def conflicts(board):\n",
        "    \"\"\"Calculate the number of conflicts, i.e., the objective function.\"\"\"\n",
        "\n",
        "    n = len(board)\n",
        "\n",
        "    horizontal_cnt = [0] * n\n",
        "    diagonal1_cnt = [0] * 2 * n\n",
        "    diagonal2_cnt = [0] * 2 * n\n",
        "\n",
        "    for i in range(n):\n",
        "        horizontal_cnt[board[i]] += 1\n",
        "        diagonal1_cnt[i + board[i]] += 1\n",
        "        diagonal2_cnt[i - board[i] + n] += 1\n",
        "\n",
        "    return sum(map(comb2, horizontal_cnt + diagonal1_cnt + diagonal2_cnt))\n",
        "\n",
        "# decrease the font size to fit larger boards\n",
        "def show_board(board, cols = ['white', 'gray'], fontsize = 48):\n",
        "    \"\"\"display the board\"\"\"\n",
        "\n",
        "    n = len(board)\n",
        "\n",
        "    # create chess board display\n",
        "    display = np.zeros([n,n])\n",
        "    for i in range(n):\n",
        "        for j in range(n):\n",
        "            if (((i+j) % 2) != 0):\n",
        "                display[i,j] = 1\n",
        "\n",
        "    cmap = colors.ListedColormap(cols)\n",
        "    fig, ax = plt.subplots()\n",
        "    ax.imshow(display, cmap = cmap,\n",
        "              norm = colors.BoundaryNorm(range(len(cols)+1), cmap.N))\n",
        "    ax.set_xticks([])\n",
        "    ax.set_yticks([])\n",
        "\n",
        "    # place queens. Note: Unicode u265B is a black queen\n",
        "    for j in range(n):\n",
        "        plt.text(j, board[j], u\"\\u265B\", fontsize = fontsize,\n",
        "                 horizontalalignment = 'center',\n",
        "                 verticalalignment = 'center')\n",
        "\n",
        "    print(f\"Board with {conflicts(board)} conflicts.\")\n",
        "    plt.show()"
      ]
    },
    {
      "cell_type": "markdown",
      "metadata": {
        "id": "UFnQZXUu_XlQ"
      },
      "source": [
        "\n",
        "## Create a board"
      ]
    },
    {
      "cell_type": "code",
      "source": [],
      "metadata": {
        "id": "EnnqCls745Jt"
      },
      "execution_count": null,
      "outputs": []
    },
    {
      "cell_type": "code",
      "execution_count": null,
      "metadata": {
        "colab": {
          "base_uri": "https://localhost:8080/",
          "height": 458
        },
        "id": "H02SOgqG_XlR",
        "outputId": "055a8ec4-539c-4bbb-9f63-5d0081748ad2"
      },
      "outputs": [
        {
          "output_type": "stream",
          "name": "stdout",
          "text": [
            "Board with 0 conflicts.\n"
          ]
        },
        {
          "output_type": "display_data",
          "data": {
            "text/plain": [
              "<Figure size 640x480 with 1 Axes>"
            ],
            "image/png": "[encoded data removed]"
          },
          "metadata": {}
        },
        {
          "output_type": "stream",
          "name": "stdout",
          "text": [
            "Queens (left to right) are at rows: [1 3 0 2]\n",
            "Number of conflicts: 0\n"
          ]
        }
      ],
      "source": [
        "count = 0\n",
        "while True:\n",
        "  board = random_board(4)\n",
        "  count +=1\n",
        "  if conflicts(board) == 0:\n",
        "    break\n",
        "show_board(board)\n",
        "print(f\"Queens (left to right) are at rows: {board}\")\n",
        "print(f\"Number of conflicts: {conflicts(board)}\")"
      ]
    },
    {
      "cell_type": "code",
      "source": [
        "print(count)"
      ],
      "metadata": {
        "colab": {
          "base_uri": "https://localhost:8080/"
        },
        "id": "pWuh9cXLPwvJ",
        "outputId": "a5134964-2fb6-43a6-8e2d-3d1540e61946"
      },
      "execution_count": null,
      "outputs": [
        {
          "output_type": "stream",
          "name": "stdout",
          "text": [
            "260\n"
          ]
        }
      ]
    },
    {
      "cell_type": "markdown",
      "metadata": {
        "id": "19ohBmKV_XlR"
      },
      "source": [
        "A board $4 \\times 4$ with no conflicts:"
      ]
    },
    {
      "cell_type": "code",
      "execution_count": null,
      "metadata": {
        "id": "ry1-ykPo_XlS",
        "outputId": "1a512f33-2da6-44cf-a924-2837eaa57f6f"
      },
      "outputs": [
        {
          "name": "stdout",
          "output_type": "stream",
          "text": [
            "Board with 0 conflicts.\n"
          ]
        },
        {
          "data": {
            "image/png": "[encoded data removed]",
            "text/plain": [
              "<Figure size 640x480 with 1 Axes>"
            ]
          },
          "metadata": {},
          "output_type": "display_data"
        }
      ],
      "source": [
        "board = [1,3,0,2]\n",
        "show_board(board)"
      ]
    },
    {
      "cell_type": "markdown",
      "metadata": {
        "id": "29UC_ZBt_XlS"
      },
      "source": [
        "# Tasks\n",
        "\n",
        "## General [10 Points]\n",
        "\n",
        "1. Make sure that you use the latest version of this notebook. Sync your forked repository and pull the latest revision.\n",
        "2. Your implementation can use libraries like math, numpy, scipy, but not libraries that implement intelligent agents or complete search algorithms. Try to keep the code simple! In this course, we want to learn about the algorithms and we often do not need to use object-oriented design.\n",
        "3. You notebook needs to be formatted professionally.\n",
        "    - Add additional markdown blocks for your description, comments in the code, add tables and use mathplotlib to produce charts where appropriate\n",
        "    - Do not show debugging output or include an excessive amount of output.\n",
        "    - Check that your submitted file is readable and contains all figures.\n",
        "4. Document your code. Use comments in the code and add a discussion of how your implementation works and your design choices."
      ]
    },
    {
      "cell_type": "markdown",
      "metadata": {
        "id": "_4yHxN-V_XlS"
      },
      "source": [
        "## Task 1: Steepest-ascend Hill Climbing Search [20 Points]\n",
        "\n",
        "Calculate the objective function for all local moves (see definition of local moves above) and always choose the best among all local moves. If there are no local moves that improve the objective, then you have reached a local optimum."
      ]
    },
    {
      "cell_type": "code",
      "execution_count": null,
      "metadata": {
        "id": "UWSteOgT_XlT"
      },
      "outputs": [],
      "source": [
        "import numpy as np\n",
        "import matplotlib.pyplot as plt\n",
        "import time\n",
        "\n",
        "def hill_climbing_steepest(board, max_steps=1000, verbose=False):\n",
        "    \"\"\"Steepest-Ascent Hill Climbing for N-Queens\"\"\"\n",
        "    n = len(board)\n",
        "    steps = 0\n",
        "    conflicts_history = [conflicts(board)]\n",
        "\n",
        "    while steps < max_steps:\n",
        "        current_conflict = conflicts(board)\n",
        "        if current_conflict == 0:\n",
        "            if verbose:\n",
        "                print(f\" Solution found after {steps} steps!\")\n",
        "            break\n",
        "\n",
        "        best_conflict = current_conflict\n",
        "        best_board = board.copy()\n",
        "\n",
        "        for col in range(n):\n",
        "            for row in range(n):\n",
        "                if row == board[col]:\n",
        "                    continue\n",
        "                new_board = board.copy()\n",
        "                new_board[col] = row\n",
        "                c = conflicts(new_board)\n",
        "                if c < best_conflict:\n",
        "                    best_conflict = c\n",
        "                    best_board = new_board.copy()\n",
        "\n",
        "        if best_conflict >= current_conflict:\n",
        "            if verbose:\n",
        "                print(f\"⛰️ Local optimum reached at step {steps}, conflicts = {current_conflict}\")\n",
        "            break\n",
        "\n",
        "        board = best_board\n",
        "        steps += 1\n",
        "        conflicts_history.append(best_conflict)\n",
        "        if verbose:\n",
        "            print(f\"Step {steps}: conflicts = {best_conflict}\")\n",
        "\n",
        "    return board, conflicts_history\n"
      ]
    },
    {
      "cell_type": "markdown",
      "metadata": {
        "id": "zw4S-L7-_XlT"
      },
      "source": [
        "## Task 2: Stochastic Hill Climbing 1 [10 Points]\n",
        "\n",
        "Chooses randomly from among all uphill moves till you have reached a local optimum."
      ]
    },
    {
      "cell_type": "code",
      "execution_count": null,
      "metadata": {
        "id": "dPSxZLBe_XlT"
      },
      "outputs": [],
      "source": [
        "# Code and description go here"
      ]
    },
    {
      "cell_type": "markdown",
      "metadata": {
        "id": "6qMe5sUh_XlT"
      },
      "source": [
        "## Task 3: Stochastic Hill Climbing 2 [20 Points]\n",
        "\n",
        "A popular version of stochastic hill climbing generates only a single random local neighbor at a time and accept it if it has a better objective function value than the current state. This is very efficient if each state has many possible successor states. This method is called \"First-choice hill climbing\" in the textbook.\n",
        "\n",
        "__Notes:__\n",
        "\n",
        "* Detecting local optima is tricky! You can, for example, stop if you were not able to improve the objective function during the last $x$ tries."
      ]
    },
    {
      "cell_type": "code",
      "execution_count": null,
      "metadata": {
        "id": "2SkSQd8J_XlT"
      },
      "outputs": [],
      "source": [
        "# Code and description go here\n",
        "import numpy as np\n",
        "import time\n",
        "import matplotlib.pyplot as plt\n",
        "\n",
        "def stochastic_hc2(board, max_steps=10000, max_no_improve=1000, verbose=False):\n",
        "    n = len(board)\n",
        "    steps = 0\n",
        "    history = [conflicts(board)]\n",
        "    no_improve = 0\n",
        "    current_conf = history[-1]\n",
        "    rng = np.random.default_rng()\n",
        "    while steps < max_steps and no_improve < max_no_improve:\n",
        "        if current_conf == 0:\n",
        "            if verbose:\n",
        "                print(f\"Solution found at step {steps}\")\n",
        "            break\n",
        "        col = rng.integers(0, n)\n",
        "        row = rng.integers(0, n)\n",
        "        if row == board[col]:\n",
        "            no_improve += 1\n",
        "            steps += 1\n",
        "            history.append(current_conf)\n",
        "            continue\n",
        "        new_board = board.copy()\n",
        "        new_board[col] = row\n",
        "        new_conf = conflicts(new_board)\n",
        "        if new_conf < current_conf:\n",
        "            board = new_board\n",
        "            current_conf = new_conf\n",
        "            history.append(current_conf)\n",
        "            no_improve = 0\n",
        "            if verbose:\n",
        "                print(f\"Step {steps+1}: improved to {current_conf}\")\n",
        "        else:\n",
        "            no_improve += 1\n",
        "            history.append(current_conf)\n",
        "        steps += 1\n",
        "    return board, history\n",
        "\n",
        "# Example usage: single run on n=8\n",
        "np.random.seed(0)\n",
        "n = 8\n",
        "start_board = random_board(n)\n",
        "final_board, hist = stochastic_hc2(start_board, max_steps=10000, max_no_improve=2000, verbose=True)\n",
        "print(\"Start conflicts:\", conflicts(start_board))\n",
        "print(\"Final conflicts:\", conflicts(final_board))\n",
        "print(\"Final board:\", final_board)\n",
        "\n",
        "# Plot convergence for this run\n",
        "plt.figure(figsize=(8,4))\n",
        "plt.plot(hist, marker='o', markersize=3, linewidth=1)\n",
        "plt.xlabel(\"Iteration\")\n",
        "plt.ylabel(\"Number of Conflicts\")\n",
        "plt.title(\"Stochastic HC2 (First-choice) Convergence on 8-Queens\")\n",
        "plt.grid(True)\n",
        "plt.show()\n"
      ]
    },
    {
      "cell_type": "markdown",
      "metadata": {
        "id": "Iu7bgGU-_XlT"
      },
      "source": [
        "## Task 4: Hill Climbing Search with Random Restarts [10 Points]\n",
        "\n",
        "Hill climbing will often end up in local optima. Restart the each of the three hill climbing algorithm up to 100 times with a random board to find a better (hopefully optimal) solution. Note that restart just means to run the algorithm several times starting with a new random board."
      ]
    },
    {
      "cell_type": "code",
      "execution_count": null,
      "metadata": {
        "id": "jV5qdJex_XlT"
      },
      "outputs": [],
      "source": [
        "# Code and description go here"
      ]
    },
    {
      "cell_type": "markdown",
      "metadata": {
        "id": "rklUYFKc_XlT"
      },
      "source": [
        "## Task 5: Simulated Annealing [10 Points]\n",
        "\n",
        "Simulated annealing is a form of stochastic hill climbing that avoid local optima by also allowing downhill moves with a probability proportional to a temperature. The temperature is decreased in every iteration following an annealing schedule. You have to experiment with the annealing schedule (Google to find guidance on this).\n",
        "\n",
        "\n",
        "1. Implement simulated annealing for the n-Queens problem.\n",
        "2. Create a visualization of the search process (a line chart of how the number if conflict changes as the algorithm progrsses).\n",
        "3. Use this visualization for experiments with different choices for the annealing schedule and discuss what you have learned."
      ]
    },
    {
      "cell_type": "code",
      "execution_count": null,
      "metadata": {
        "id": "CDimxvSS_XlT"
      },
      "outputs": [],
      "source": [
        "# Code and description go here"
      ]
    },
    {
      "cell_type": "markdown",
      "metadata": {
        "id": "zSjMlDvs_XlU"
      },
      "source": [
        "## Task 6: Algorithm Behavior Analysis [20 Points]\n",
        "\n",
        "### Comparison\n",
        "Compare the algorithm using runtime and objective function values. Use boards of size 4 and 8 to explore how the different algorithms perform. Make sure that you run the algorithms for each board size several times (at least 100 times) with different starting boards and report averages.\n",
        "\n",
        "Complete the following table\n",
        "\n",
        "| Algorithm           | Board size | Avg. Run time | Avg. number of conflicts | % of runs ending in optimal solution  |\n",
        "| ------------------- | ---------- | ------------- | --------------------------------- | - |\n",
        "| Steepest asc. HC    |     4      |               |                                   |   |\n",
        "| Stochastic HC 1     |     4      |               |                                   |   |\n",
        "| Stochastic HC 2     |     4      |               |                                   |   |\n",
        "| Simulated Annealing |     4      |               |                                   |   |\n",
        "| Steepest asc. HC    |     8      |               |                                   |   |\n",
        "| Stochastic HC 1     |     8      |               |                                   |   |\n",
        "| Stochastic HC 2     |     8      |               |                                   |   |\n",
        "| Simulated Annealing |     8      |               |                                   |   |\n",
        "\n",
        "Hint: See [Profiling Python Code](../HOWTOs/profiling_code.ipynb) for help about how to measure runtime in Python.\n",
        "\n",
        "Add the used code here:"
      ]
    },
    {
      "cell_type": "markdown",
      "metadata": {
        "id": "DQojc1hi_XlU"
      },
      "source": [
        "### Algorithm Convergence\n",
        "\n",
        "For each algorithm implemented, describe the typical convergence pattern (fast initial improvement vs. steady progress).\n",
        "Include a plot showing the objective function value over iterations for one representative run of each algorithm on the 8-queens problem.\n",
        "Explain which algorithms exhibit plateaus or getting stuck in local optima most frequently."
      ]
    },
    {
      "cell_type": "code",
      "execution_count": null,
      "metadata": {
        "id": "8y2WK97s_XlV"
      },
      "outputs": [],
      "source": [
        "# Code and description go here"
      ]
    },
    {
      "cell_type": "code",
      "source": [
        "\n",
        "n = 8\n",
        "np.random.seed(0)\n",
        "\n",
        "board = random_board(n)\n",
        "\n",
        "algorithms = {\n",
        "    \"Steepest Hill Climbing\": hill_climbing_steepest,\n",
        "    \"Stochastic HC 1\": stochastic_hc1,\n",
        "    \"Stochastic HC 2\": stochastic_hc2,\n",
        "    \"Simulated Annealing\": simulated_annealing\n",
        "}\n",
        "\n",
        "results = {}\n",
        "\n",
        "for name, func in algorithms.items():\n",
        "    start = time.time()\n",
        "    final_board, hist = func(random_board(n), verbose=False)\n",
        "    results[name] = {\n",
        "        \"history\": hist,\n",
        "        \"time\": time.time() - start,\n",
        "        \"final_conf\": conflicts(final_board)\n",
        "    }\n",
        "\n",
        "# Vẽ biểu đồ hội tụ (objective function value qua iterations)\n",
        "plt.figure(figsize=(8,6))\n",
        "for name, res in results.items():\n",
        "    plt.plot(res[\"history\"], label=name)\n",
        "\n",
        "plt.title(\"Algorithm Convergence on 8-Queens Problem\")\n",
        "plt.xlabel(\"Iteration\")\n",
        "plt.ylabel(\"Number of Conflicts\")\n",
        "plt.legend()\n",
        "plt.grid(True)\n",
        "plt.show()\n"
      ],
      "metadata": {
        "id": "jbeICcb-47Vy"
      },
      "execution_count": null,
      "outputs": []
    },
    {
      "cell_type": "markdown",
      "metadata": {
        "id": "xh7qUvsw_XlV"
      },
      "source": [
        "### Problem Size Scalability\n",
        "\n",
        "Create a log-log plot showing how runtime scales with board size ($n=4, 8, 12, 16, 20$) for at least two algorithms.\n",
        "Estimate the empirical time complexity (Big O) for each algorithm based on your results.\n",
        "Identify which algorithm scales best for large problem sizes and explain why."
      ]
    },
    {
      "cell_type": "code",
      "execution_count": null,
      "metadata": {
        "id": "AkLVGnad_XlW"
      },
      "outputs": [],
      "source": [
        "# Code and description go here"
      ]
    },
    {
      "cell_type": "markdown",
      "metadata": {
        "id": "K1VdxZKv_XlW"
      },
      "source": [
        "## Advanced task: Exploring other Local Moves Operators\n",
        "\n",
        "* __Graduate students__ need to complete this task [10 points]\n",
        "* __Undergraduate students__ can attempt this as a bonus task [max +5 bonus points].\n",
        "\n",
        "### Move Operator Implementation\n",
        "\n",
        "Implement the following local move operators:\n",
        "\n",
        "* Single-step move: Move one queen only one square up or down at a time\n",
        "* Column swap: Exchange the positions of queens in two randomly selected columns\n",
        "* Dual-queen move: Select two queens and move both simultaneously\n",
        "* Adaptive move: Design your own operator that adapts which local move it uses based on the current state (e.g., focuses on queens with most conflicts or randomly chooses one of the moves above)\n",
        "\n",
        "### Experimental Analysis\n",
        "\n",
        "Using the 8-Queens and 12-Queens problems: Run your Stochastic Hill Climbing 2 implementation with each move operator 100 times\n",
        "For each operator, create a visualization showing:\n",
        "\n",
        "* Average solution quality over iterations\n",
        "* Distribution of final solution qualities\n",
        "* Average time to solution for successful runs\n",
        "\n",
        "### Discussion\n",
        "\n",
        "Describe what you have learned from the experiments. Which operator works best for which situation and why?"
      ]
    },
    {
      "cell_type": "code",
      "execution_count": null,
      "metadata": {
        "tags": [],
        "id": "0VNPH8na_XlX"
      },
      "outputs": [],
      "source": [
        "# Code and description go here"
      ]
    },
    {
      "cell_type": "markdown",
      "metadata": {
        "id": "MqtSq5Mw_XlY"
      },
      "source": [
        "## More Things to Do (not for credit)\n",
        "\n",
        "If the assignment was to easy for yuo then you can think about the following problems. These problems are challenging and not part of this assignment.\n",
        "\n",
        "### Implement a Genetic Algorithm for the n-Queens problem"
      ]
    },
    {
      "cell_type": "code",
      "execution_count": null,
      "metadata": {
        "tags": [],
        "id": "UrRGzOjb_XlY"
      },
      "outputs": [],
      "source": [
        "# Code and description go here"
      ]
    }
  ],
  "metadata": {
    "kernelspec": {
      "display_name": ".venv",
      "language": "python",
      "name": "python3"
    },
    "language_info": {
      "codemirror_mode": {
        "name": "ipython",
        "version": 3
      },
      "file_extension": ".py",
      "mimetype": "text/x-python",
      "name": "python",
      "nbconvert_exporter": "python",
      "pygments_lexer": "ipython3",
      "version": "3.12.3"
    },
    "toc-autonumbering": false,
    "toc-showcode": false,
    "toc-showmarkdowntxt": false,
    "toc-showtags": false,
    "colab": {
      "provenance": [],
      "include_colab_link": true
    }
  },
  "nbformat": 4,
  "nbformat_minor": 0
}